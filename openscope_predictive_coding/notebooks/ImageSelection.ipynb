{
 "cells": [
  {
   "cell_type": "code",
   "execution_count": 1,
   "metadata": {
    "collapsed": true
   },
   "outputs": [],
   "source": [
    "import numpy as np\n",
    "import pandas as pd\n",
    "import matplotlib.pyplot as plt\n",
    "import matplotlib.patches as patches\n",
    "from random import shuffle\n",
    "%matplotlib inline"
   ]
  },
  {
   "cell_type": "code",
   "execution_count": 2,
   "metadata": {
    "collapsed": true
   },
   "outputs": [],
   "source": [
    "df = pd.read_hdf(\"bob_ns_response_all_images.h5\")"
   ]
  },
  {
   "cell_type": "code",
   "execution_count": 3,
   "metadata": {},
   "outputs": [
    {
     "data": {
      "text/plain": [
       "array([u'VISal', u'VISam', u'VISl', u'VISp', u'VISpm', u'VISrl'], dtype=object)"
      ]
     },
     "execution_count": 3,
     "metadata": {},
     "output_type": "execute_result"
    }
   ],
   "source": [
    "df[\"area\"].unique()"
   ]
  },
  {
   "cell_type": "code",
   "execution_count": 4,
   "metadata": {
    "collapsed": true
   },
   "outputs": [
    {
     "data": {
      "text/plain": [
       "array([ -1,   0,   1,   2,   3,   4,   5,   6,   7,   8,   9,  10,  11,\n",
       "        12,  13,  14,  15,  16,  17,  18,  19,  20,  21,  22,  23,  24,\n",
       "        25,  26,  27,  28,  29,  30,  31,  32,  33,  34,  35,  36,  37,\n",
       "        38,  39,  40,  41,  42,  43,  44,  45,  46,  47,  48,  49,  50,\n",
       "        51,  52,  53,  54,  55,  56,  57,  58,  59,  60,  61,  62,  63,\n",
       "        64,  65,  66,  67,  68,  69,  70,  71,  72,  73,  74,  75,  76,\n",
       "        77,  78,  79,  80,  81,  82,  83,  84,  85,  86,  87,  88,  89,\n",
       "        90,  91,  92,  93,  94,  95,  96,  97,  98,  99, 100, 101, 102,\n",
       "       103, 104, 105, 106, 107, 108, 109, 110, 111, 112, 113, 114, 115,\n",
       "       116, 117], dtype=int64)"
      ]
     },
     "execution_count": 4,
     "metadata": {},
     "output_type": "execute_result"
    }
   ],
   "source": [
    "df[\"image\"].unique()"
   ]
  },
  {
   "cell_type": "code",
   "execution_count": 5,
   "metadata": {},
   "outputs": [],
   "source": [
    "df_VISp = df[df.area== \"VISp\"]\n",
    "df_VISpm = df[df.area== \"VISpm\"]"
   ]
  },
  {
   "cell_type": "code",
   "execution_count": 6,
   "metadata": {},
   "outputs": [],
   "source": [
    "VISp_im_mean = df_VISp.groupby('image')['mean_response'].mean()\n",
    "VISp_im_std = df_VISp.groupby('image')['mean_response'].std()\n",
    "\n",
    "VISp_im_mean = VISp_im_mean.values\n",
    "VISp_im_std = VISp_im_std.values\n",
    "image = df[\"image\"].unique()\n",
    "\n",
    "\n",
    "df_VISp_image = pd.DataFrame({'image':image, 'mean':VISp_im_mean, 'std':VISp_im_std, 'SNR':VISp_im_mean/VISp_im_std})\n",
    "\n",
    "cols = df_VISp_image.columns.tolist()\n",
    "cols = ['image','SNR','mean','std']\n",
    "#cols = cols[-1:] + cols[:-1]\n",
    "df_VISp_image = df_VISp_image[cols] \n",
    "# sorted_VISpimage = df_VISp_image.sort_values(by=['mean','std'],ascending=[0, 0])\n",
    "sorted_VISpimage = df_VISp_image.sort_values(by=['SNR'],ascending=[0])"
   ]
  },
  {
   "cell_type": "code",
   "execution_count": 7,
   "metadata": {},
   "outputs": [],
   "source": [
    "VISpm_im_mean = df_VISpm.groupby('image')['mean_response'].mean()\n",
    "VISpm_im_std = df_VISpm.groupby('image')['mean_response'].std()\n",
    "\n",
    "VISpm_im_mean = VISpm_im_mean.values\n",
    "VISpm_im_std = VISpm_im_std.values\n",
    "image = df[\"image\"].unique()\n",
    "\n",
    "\n",
    "df_VISpm_image = pd.DataFrame({'image':image, 'mean':VISpm_im_mean, 'std':VISpm_im_std, 'SNR':VISpm_im_mean/VISpm_im_std})\n",
    "\n",
    "cols = df_VISpm_image.columns.tolist()\n",
    "cols = ['image','SNR','mean','std']\n",
    "#cols = cols[-1:] + cols[:-1]\n",
    "df_VISpm_image = df_VISpm_image[cols] \n",
    "# sorted_VISpimage = df_VISp_image.sort_values(by=['mean','std'],ascending=[0, 0])\n",
    "sorted_VISpmimage = df_VISpm_image.sort_values(by=['SNR'],ascending=[0])"
   ]
  },
  {
   "cell_type": "code",
   "execution_count": 23,
   "metadata": {
    "collapsed": true
   },
   "outputs": [
    {
     "data": {
      "text/plain": [
       "array([  9,  29,  23,  42,  71, 103,   8,  78,   3,  74,  65, 101,  22,\n",
       "        19,  98,  92,  13,   6,  41,  68,  94,  45, 100,  10,  14,  97,\n",
       "         1,  93,  84,  82,  53, 115,  52,  44,  16,  35,  55,  32,  51,\n",
       "        96, 114,   7,  39,  17,  89, 110,  26, 112,  40,  49,  80,  48,\n",
       "       111, 117,  18,  15,  63,  27,  54,  87,  91, 109,  77,  86, 105,\n",
       "        90,  28,  66,  12,  11,  64,  69,  95,  79,  75, 104, 102,  85,\n",
       "        83,  34, 107,   4,   5,  81,  67,  58,  33,  57,  31,  62,  24,\n",
       "        43,  88,  25,  47,  60,  70,  46,  38,  76,  50,  99, 106, 108,\n",
       "       113,   2,  21,  37, 116,  20,  72,   0,  61,  -1,  73,  59,  56,\n",
       "        36,  30], dtype=int64)"
      ]
     },
     "execution_count": 23,
     "metadata": {},
     "output_type": "execute_result"
    }
   ],
   "source": [
    "n_top = 119\n",
    "top_VISp = np.array(sorted_VISpimage.image[0:n_top:1])\n",
    "top_VISpm = np.array(sorted_VISpmimage.image[0:n_top:1])\n",
    "\n",
    "top_VISp"
   ]
  },
  {
   "cell_type": "code",
   "execution_count": 8,
   "metadata": {
    "collapsed": true
   },
   "outputs": [],
   "source": [
    "sortedimages_VISp = np.array(sorted_VISpimage.image)\n",
    "sortedimages_VISpm = np.array(sorted_VISpmimage.image)"
   ]
  },
  {
   "cell_type": "code",
   "execution_count": 9,
   "metadata": {},
   "outputs": [
    {
     "data": {
      "image/png": "[encoded data removed]",
      "text/plain": [
       "<matplotlib.figure.Figure at 0x9ef6cf8>"
      ]
     },
     "metadata": {},
     "output_type": "display_data"
    }
   ],
   "source": [
    "f = plt.figure()\n",
    "plt.plot(df_VISp_image.SNR,df_VISpm_image.SNR,'ro')\n",
    "plt.xlabel('VISp images')\n",
    "plt.ylabel('VISpm images')\n",
    "#plt.title('r=')\n",
    "plt.show()"
   ]
  },
  {
   "cell_type": "code",
   "execution_count": 10,
   "metadata": {},
   "outputs": [
    {
     "data": {
      "text/plain": [
       "42"
      ]
     },
     "execution_count": 10,
     "metadata": {},
     "output_type": "execute_result"
    }
   ],
   "source": [
    "len(list(set(sortedimages_VISp[0:63]).intersection(sortedimages_VISpm[0:63])))"
   ]
  },
  {
   "cell_type": "code",
   "execution_count": 11,
   "metadata": {
    "scrolled": true
   },
   "outputs": [
    {
     "name": "stdout",
     "output_type": "stream",
     "text": [
      "[6, 7, 8, 9, 10, 13, 14, 15, 17, 19, 22, 23, 26, 27, 29, 32, 35, 40, 41, 42, 44, 45, 51, 52, 53, 65, 68, 71, 78, 84, 89, 93, 94, 96, 101, 103, 110, 111, 112, 114, 115, 117]\n"
     ]
    }
   ],
   "source": [
    "top_images = list(set(sortedimages_VISp[0:63]).intersection(sortedimages_VISpm[0:63]))\n",
    "\n",
    "print top_images"
   ]
  },
  {
   "cell_type": "code",
   "execution_count": 16,
   "metadata": {},
   "outputs": [
    {
     "name": "stdout",
     "output_type": "stream",
     "text": [
      "[26, 115, 40, 96, 110, 17, 71, 114, 53, 84, 117, 44, 101, 29, 89, 19, 111, 23, 32, 78, 112, 41, 51, 6, 27, 68, 93, 42, 13, 35, 14, 22, 15, 8, 65, 103, 52, 45, 9, 10, 7, 94]\n"
     ]
    }
   ],
   "source": [
    "shuffled_top_images = top_images\n",
    "shuffle(shuffled_top_images)\n",
    "print shuffled_top_images"
   ]
  },
  {
   "cell_type": "code",
   "execution_count": 17,
   "metadata": {},
   "outputs": [],
   "source": [
    "VISpm_SNR=np.zeros(42)\n",
    "VISp_SNR=np.zeros(42)\n",
    "for ii in range(0,42):\n",
    "    VISpm_SNR[ii]=df_VISpm_image[(df_VISpm_image.image == shuffled_top_images[ii])].SNR\n",
    "    VISp_SNR[ii]=df_VISp_image[(df_VISp_image.image == shuffled_top_images[ii])].SNR"
   ]
  },
  {
   "cell_type": "code",
   "execution_count": 18,
   "metadata": {},
   "outputs": [
    {
     "data": {
      "text/html": [
       "<div>\n",
       "<table border=\"1\" class=\"dataframe\">\n",
       "  <thead>\n",
       "    <tr style=\"text-align: right;\">\n",
       "      <th></th>\n",
       "      <th>image</th>\n",
       "      <th>VISpm_SNR</th>\n",
       "      <th>VISp_SNR</th>\n",
       "    </tr>\n",
       "  </thead>\n",
       "  <tbody>\n",
       "    <tr>\n",
       "      <th>0</th>\n",
       "      <td>26</td>\n",
       "      <td>0.615421</td>\n",
       "      <td>0.564734</td>\n",
       "    </tr>\n",
       "    <tr>\n",
       "      <th>1</th>\n",
       "      <td>115</td>\n",
       "      <td>0.516522</td>\n",
       "      <td>0.606559</td>\n",
       "    </tr>\n",
       "    <tr>\n",
       "      <th>2</th>\n",
       "      <td>40</td>\n",
       "      <td>0.429310</td>\n",
       "      <td>0.561129</td>\n",
       "    </tr>\n",
       "    <tr>\n",
       "      <th>3</th>\n",
       "      <td>96</td>\n",
       "      <td>0.429554</td>\n",
       "      <td>0.588223</td>\n",
       "    </tr>\n",
       "    <tr>\n",
       "      <th>4</th>\n",
       "      <td>110</td>\n",
       "      <td>0.486679</td>\n",
       "      <td>0.566315</td>\n",
       "    </tr>\n",
       "    <tr>\n",
       "      <th>5</th>\n",
       "      <td>17</td>\n",
       "      <td>0.478338</td>\n",
       "      <td>0.575729</td>\n",
       "    </tr>\n",
       "    <tr>\n",
       "      <th>6</th>\n",
       "      <td>71</td>\n",
       "      <td>0.527101</td>\n",
       "      <td>0.718809</td>\n",
       "    </tr>\n",
       "    <tr>\n",
       "      <th>7</th>\n",
       "      <td>114</td>\n",
       "      <td>0.550838</td>\n",
       "      <td>0.588170</td>\n",
       "    </tr>\n",
       "    <tr>\n",
       "      <th>8</th>\n",
       "      <td>53</td>\n",
       "      <td>0.441465</td>\n",
       "      <td>0.607666</td>\n",
       "    </tr>\n",
       "    <tr>\n",
       "      <th>9</th>\n",
       "      <td>84</td>\n",
       "      <td>0.541663</td>\n",
       "      <td>0.618346</td>\n",
       "    </tr>\n",
       "    <tr>\n",
       "      <th>10</th>\n",
       "      <td>117</td>\n",
       "      <td>0.459544</td>\n",
       "      <td>0.547712</td>\n",
       "    </tr>\n",
       "    <tr>\n",
       "      <th>11</th>\n",
       "      <td>44</td>\n",
       "      <td>0.427150</td>\n",
       "      <td>0.598863</td>\n",
       "    </tr>\n",
       "    <tr>\n",
       "      <th>12</th>\n",
       "      <td>101</td>\n",
       "      <td>0.587338</td>\n",
       "      <td>0.668407</td>\n",
       "    </tr>\n",
       "    <tr>\n",
       "      <th>13</th>\n",
       "      <td>29</td>\n",
       "      <td>0.656588</td>\n",
       "      <td>0.773565</td>\n",
       "    </tr>\n",
       "    <tr>\n",
       "      <th>14</th>\n",
       "      <td>89</td>\n",
       "      <td>0.410049</td>\n",
       "      <td>0.568121</td>\n",
       "    </tr>\n",
       "    <tr>\n",
       "      <th>15</th>\n",
       "      <td>19</td>\n",
       "      <td>0.593449</td>\n",
       "      <td>0.661752</td>\n",
       "    </tr>\n",
       "    <tr>\n",
       "      <th>16</th>\n",
       "      <td>111</td>\n",
       "      <td>0.418093</td>\n",
       "      <td>0.547950</td>\n",
       "    </tr>\n",
       "    <tr>\n",
       "      <th>17</th>\n",
       "      <td>23</td>\n",
       "      <td>0.590316</td>\n",
       "      <td>0.731811</td>\n",
       "    </tr>\n",
       "    <tr>\n",
       "      <th>18</th>\n",
       "      <td>32</td>\n",
       "      <td>0.414488</td>\n",
       "      <td>0.591708</td>\n",
       "    </tr>\n",
       "    <tr>\n",
       "      <th>19</th>\n",
       "      <td>78</td>\n",
       "      <td>0.430491</td>\n",
       "      <td>0.688197</td>\n",
       "    </tr>\n",
       "    <tr>\n",
       "      <th>20</th>\n",
       "      <td>112</td>\n",
       "      <td>0.468742</td>\n",
       "      <td>0.563669</td>\n",
       "    </tr>\n",
       "    <tr>\n",
       "      <th>21</th>\n",
       "      <td>41</td>\n",
       "      <td>0.569337</td>\n",
       "      <td>0.650858</td>\n",
       "    </tr>\n",
       "    <tr>\n",
       "      <th>22</th>\n",
       "      <td>51</td>\n",
       "      <td>0.488861</td>\n",
       "      <td>0.589823</td>\n",
       "    </tr>\n",
       "    <tr>\n",
       "      <th>23</th>\n",
       "      <td>6</td>\n",
       "      <td>0.576930</td>\n",
       "      <td>0.655626</td>\n",
       "    </tr>\n",
       "    <tr>\n",
       "      <th>24</th>\n",
       "      <td>27</td>\n",
       "      <td>0.461296</td>\n",
       "      <td>0.540561</td>\n",
       "    </tr>\n",
       "    <tr>\n",
       "      <th>25</th>\n",
       "      <td>68</td>\n",
       "      <td>0.419640</td>\n",
       "      <td>0.650781</td>\n",
       "    </tr>\n",
       "    <tr>\n",
       "      <th>26</th>\n",
       "      <td>93</td>\n",
       "      <td>0.498475</td>\n",
       "      <td>0.623198</td>\n",
       "    </tr>\n",
       "    <tr>\n",
       "      <th>27</th>\n",
       "      <td>42</td>\n",
       "      <td>0.527099</td>\n",
       "      <td>0.723646</td>\n",
       "    </tr>\n",
       "    <tr>\n",
       "      <th>28</th>\n",
       "      <td>13</td>\n",
       "      <td>0.426517</td>\n",
       "      <td>0.658071</td>\n",
       "    </tr>\n",
       "    <tr>\n",
       "      <th>29</th>\n",
       "      <td>35</td>\n",
       "      <td>0.534852</td>\n",
       "      <td>0.597073</td>\n",
       "    </tr>\n",
       "    <tr>\n",
       "      <th>30</th>\n",
       "      <td>14</td>\n",
       "      <td>0.562760</td>\n",
       "      <td>0.634570</td>\n",
       "    </tr>\n",
       "    <tr>\n",
       "      <th>31</th>\n",
       "      <td>22</td>\n",
       "      <td>0.423600</td>\n",
       "      <td>0.667084</td>\n",
       "    </tr>\n",
       "    <tr>\n",
       "      <th>32</th>\n",
       "      <td>15</td>\n",
       "      <td>0.411041</td>\n",
       "      <td>0.545982</td>\n",
       "    </tr>\n",
       "    <tr>\n",
       "      <th>33</th>\n",
       "      <td>8</td>\n",
       "      <td>0.632295</td>\n",
       "      <td>0.712481</td>\n",
       "    </tr>\n",
       "    <tr>\n",
       "      <th>34</th>\n",
       "      <td>65</td>\n",
       "      <td>0.755014</td>\n",
       "      <td>0.668626</td>\n",
       "    </tr>\n",
       "    <tr>\n",
       "      <th>35</th>\n",
       "      <td>103</td>\n",
       "      <td>0.651977</td>\n",
       "      <td>0.716767</td>\n",
       "    </tr>\n",
       "    <tr>\n",
       "      <th>36</th>\n",
       "      <td>52</td>\n",
       "      <td>0.522139</td>\n",
       "      <td>0.601852</td>\n",
       "    </tr>\n",
       "    <tr>\n",
       "      <th>37</th>\n",
       "      <td>45</td>\n",
       "      <td>0.418595</td>\n",
       "      <td>0.643603</td>\n",
       "    </tr>\n",
       "    <tr>\n",
       "      <th>38</th>\n",
       "      <td>9</td>\n",
       "      <td>0.535173</td>\n",
       "      <td>0.779679</td>\n",
       "    </tr>\n",
       "    <tr>\n",
       "      <th>39</th>\n",
       "      <td>10</td>\n",
       "      <td>0.432860</td>\n",
       "      <td>0.634888</td>\n",
       "    </tr>\n",
       "    <tr>\n",
       "      <th>40</th>\n",
       "      <td>7</td>\n",
       "      <td>0.553100</td>\n",
       "      <td>0.584934</td>\n",
       "    </tr>\n",
       "    <tr>\n",
       "      <th>41</th>\n",
       "      <td>94</td>\n",
       "      <td>0.518867</td>\n",
       "      <td>0.646033</td>\n",
       "    </tr>\n",
       "  </tbody>\n",
       "</table>\n",
       "</div>"
      ],
      "text/plain": [
       "    image  VISpm_SNR  VISp_SNR\n",
       "0      26   0.615421  0.564734\n",
       "1     115   0.516522  0.606559\n",
       "2      40   0.429310  0.561129\n",
       "3      96   0.429554  0.588223\n",
       "4     110   0.486679  0.566315\n",
       "5      17   0.478338  0.575729\n",
       "6      71   0.527101  0.718809\n",
       "7     114   0.550838  0.588170\n",
       "8      53   0.441465  0.607666\n",
       "9      84   0.541663  0.618346\n",
       "10    117   0.459544  0.547712\n",
       "11     44   0.427150  0.598863\n",
       "12    101   0.587338  0.668407\n",
       "13     29   0.656588  0.773565\n",
       "14     89   0.410049  0.568121\n",
       "15     19   0.593449  0.661752\n",
       "16    111   0.418093  0.547950\n",
       "17     23   0.590316  0.731811\n",
       "18     32   0.414488  0.591708\n",
       "19     78   0.430491  0.688197\n",
       "20    112   0.468742  0.563669\n",
       "21     41   0.569337  0.650858\n",
       "22     51   0.488861  0.589823\n",
       "23      6   0.576930  0.655626\n",
       "24     27   0.461296  0.540561\n",
       "25     68   0.419640  0.650781\n",
       "26     93   0.498475  0.623198\n",
       "27     42   0.527099  0.723646\n",
       "28     13   0.426517  0.658071\n",
       "29     35   0.534852  0.597073\n",
       "30     14   0.562760  0.634570\n",
       "31     22   0.423600  0.667084\n",
       "32     15   0.411041  0.545982\n",
       "33      8   0.632295  0.712481\n",
       "34     65   0.755014  0.668626\n",
       "35    103   0.651977  0.716767\n",
       "36     52   0.522139  0.601852\n",
       "37     45   0.418595  0.643603\n",
       "38      9   0.535173  0.779679\n",
       "39     10   0.432860  0.634888\n",
       "40      7   0.553100  0.584934\n",
       "41     94   0.518867  0.646033"
      ]
     },
     "execution_count": 18,
     "metadata": {},
     "output_type": "execute_result"
    }
   ],
   "source": [
    "images42 = pd.DataFrame(np.array(shuffled_top_images),columns=['image'])\n",
    "\n",
    "images42['VISpm_SNR']=VISpm_SNR\n",
    "images42['VISp_SNR']=VISp_SNR\n",
    "\n",
    "images42"
   ]
  },
  {
   "cell_type": "code",
   "execution_count": 133,
   "metadata": {
    "collapsed": true
   },
   "outputs": [],
   "source": [
    "images42.to_excel('shuffled_selected_images.xls')"
   ]
  },
  {
   "cell_type": "code",
   "execution_count": 75,
   "metadata": {
    "collapsed": true
   },
   "outputs": [],
   "source": [
    "#################### To view the images ###############\n",
    "\n",
    "\n",
    "\n",
    "from allensdk.core.brain_observatory_cache import BrainObservatoryCache\n",
    "boc = BrainObservatoryCache(manifest_file='boc/manifest.json')\n",
    "data_set = boc.get_ophys_experiment_data(501940850)\n",
    "\n",
    "def plot_stimulus_table(stim_table, title):\n",
    "    fstart = stim_table.start.min()\n",
    "    fend = stim_table.end.max()\n",
    "    \n",
    "    fig = plt.figure(figsize=(15,1))\n",
    "    ax = fig.gca()\n",
    "    for i, trial in stim_table.iterrows():    \n",
    "        x1 = float(trial.start - fstart) / (fend - fstart)\n",
    "        x2 = float(trial.end - fstart) / (fend - fstart)            \n",
    "        ax.add_patch(patches.Rectangle((x1, 0.0), x2 - x1, 1.0, color='r'))\n",
    "    ax.set_xticks((0,1))\n",
    "    ax.set_xticklabels((fstart, fend))\n",
    "    ax.set_yticks(())\n",
    "    ax.set_title(title)\n",
    "    ax.set_xlabel(\"frames\")"
   ]
  },
  {
   "cell_type": "code",
   "execution_count": 151,
   "metadata": {},
   "outputs": [
    {
     "data": {
      "image/png": "[encoded data removed]",
      "text/plain": [
       "<matplotlib.figure.Figure at 0x41bbc128>"
      ]
     },
     "metadata": {},
     "output_type": "display_data"
    }
   ],
   "source": [
    "data_set = boc.get_ophys_experiment_data(501498760)\n",
    "\n",
    "scene_nums = [40, 52, 93, 35] #[4, 83] \n",
    "\n",
    "# read in the array of images\n",
    "scenes = data_set.get_stimulus_template('natural_scenes')\n",
    "\n",
    "# display a couple of the scenes\n",
    "fig, axes = plt.subplots(1,len(scene_nums))\n",
    "for ax,scene in zip(axes, scene_nums):\n",
    "    ax.imshow(scenes[scene,:,:], cmap='gray')\n",
    "    ax.set_axis_off()\n",
    "    ax.set_title('scene %d' % scene)"
   ]
  },
  {
   "cell_type": "code",
   "execution_count": 39,
   "metadata": {},
   "outputs": [
    {
     "data": {
      "text/plain": [
       "(118L, 918L, 1174L)"
      ]
     },
     "execution_count": 39,
     "metadata": {},
     "output_type": "execute_result"
    }
   ],
   "source": [
    "np.shape(scenes)"
   ]
  }
 ],
 "metadata": {
  "kernelspec": {
   "display_name": "Python 2",
   "language": "python",
   "name": "python2"
  },
  "language_info": {
   "codemirror_mode": {
    "name": "ipython",
    "version": 2
   },
   "file_extension": ".py",
   "mimetype": "text/x-python",
   "name": "python",
   "nbconvert_exporter": "python",
   "pygments_lexer": "ipython2",
   "version": "2.7.13"
  }
 },
 "nbformat": 4,
 "nbformat_minor": 2
}
